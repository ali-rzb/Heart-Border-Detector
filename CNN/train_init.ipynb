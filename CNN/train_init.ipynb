{
 "cells": [
  {
   "cell_type": "markdown",
   "metadata": {},
   "source": [
    "<h1>\n",
    "importing data"
   ]
  },
  {
   "cell_type": "code",
   "execution_count": 2,
   "metadata": {},
   "outputs": [],
   "source": [
    "from keras.models import Sequential\n",
    "from keras.layers import Dense, Flatten, Conv2D, MaxPool2D\n",
    "\n",
    "import os\n",
    "import random\n",
    "import matplotlib.pyplot as plt\n",
    "import warnings\n",
    "\n",
    "import cv2 as cv\n",
    "from sklearn.utils import shuffle\n",
    "import numpy as np\n",
    "from keras.utils import np_utils\n",
    "\n",
    "\n",
    "warnings.simplefilter(action='ignore', category=FutureWarning)"
   ]
  },
  {
   "cell_type": "code",
   "execution_count": 94,
   "metadata": {},
   "outputs": [],
   "source": [
    "# physical_device = tf.config.experimental.list_physical_devices()\n",
    "# print('Num GPUs Available: ',len(physical_device))\n",
    "# tf.config.experimental.set_memory_growth(physical_device[2],True)"
   ]
  },
  {
   "cell_type": "markdown",
   "metadata": {},
   "source": [
    "<h1>\n",
    "Data Preparation"
   ]
  },
  {
   "cell_type": "code",
   "execution_count": 2,
   "metadata": {},
   "outputs": [],
   "source": [
    "def equalize_classes(_path):\n",
    "    _C0 = list(os.scandir(_path+'/C0'))\n",
    "    _C1 = list(os.scandir(_path+'/C1'))\n",
    "    while True:\n",
    "        _C0 = list(os.scandir(_path+'/C0'))\n",
    "        if len(_C1)==len(_C0):\n",
    "            break\n",
    "        else:\n",
    "            for c in random.sample(_C0,1):\n",
    "                os.remove(c)\n",
    "def read_from_path(_path):\n",
    "    \n",
    "    data_x = []\n",
    "    data_y = []\n",
    "    \n",
    "    for p in _path:\n",
    "        _C0 = os.listdir(p+'/C0')\n",
    "        _C1 = os.listdir(p+'/C1')\n",
    "        temp_data_x = []\n",
    "        temp_data_y = []\n",
    "\n",
    "        for f in _C0:\n",
    "            full_name = p+'/C0/'+f\n",
    "            img = (np.array(cv.imread(full_name,0) ,dtype=np.uint8).astype('float32')/255)\n",
    "            temp_data_x.append(img)\n",
    "            temp_data_y.append(0)\n",
    "\n",
    "        for f in _C1:\n",
    "            full_name = p+'/C1/'+f\n",
    "            img = (np.array(cv.imread(full_name,0) ,dtype=np.uint8).astype('float32')/255)\n",
    "            temp_data_x.append(img)\n",
    "            temp_data_y.append(1)\n",
    "        \n",
    "        data_x += temp_data_x\n",
    "        data_y += temp_data_y\n",
    "\n",
    "    data_x,data_y = shuffle(data_x,data_y)\n",
    "\n",
    "    return np.array(data_x),np.array(data_y)"
   ]
  },
  {
   "cell_type": "code",
   "execution_count": 3,
   "metadata": {},
   "outputs": [],
   "source": [
    "for i in range(1,4):\n",
    "    equalize_classes('labeling/data/frame_1_{:02d}_data_16'.format(i))\n",
    "\n",
    "\n",
    "train_path = ['labeling/data/frame_1_01_data_16',\\\n",
    "            #   'labeling/data/frame_1_02_data_16',\\\n",
    "              'labeling/data/frame_1_03_data_16']\n",
    "\n",
    "valid_path = ['labeling/data/frame_1_02_data_16']"
   ]
  },
  {
   "cell_type": "code",
   "execution_count": 4,
   "metadata": {},
   "outputs": [],
   "source": [
    "train_data_x,train_data_y = read_from_path(train_path)\n",
    "valid_data_x,valid_data_y = read_from_path(valid_path)"
   ]
  },
  {
   "cell_type": "code",
   "execution_count": 6,
   "metadata": {},
   "outputs": [
    {
     "name": "stdout",
     "output_type": "stream",
     "text": [
      "(104, 16, 16, 1)\n",
      "(42, 16, 16, 1)\n"
     ]
    }
   ],
   "source": [
    "shape = np.shape(train_data_x)\n",
    "train_data_x = np.reshape(train_data_x,(shape[0],16,16,1))\n",
    "print(train_data_x.shape)\n",
    "\n",
    "shape = np.shape(valid_data_x)\n",
    "valid_data_x = np.reshape(valid_data_x,(shape[0],16,16,1))\n",
    "print(valid_data_x.shape)\n",
    "\n",
    "# shape = np.shape(test_data_x)\n",
    "# test_data_x = np.reshape(test_data_x,(shape[0],16,16,1))\n"
   ]
  },
  {
   "cell_type": "code",
   "execution_count": 7,
   "metadata": {},
   "outputs": [
    {
     "name": "stdout",
     "output_type": "stream",
     "text": [
      "Shape before one-hot encoding:  (104,) (42,)\n",
      "Shape after one-hot encoding:  (104, 2) (42, 2)\n"
     ]
    }
   ],
   "source": [
    "n_classes = 2\n",
    "print(\"Shape before one-hot encoding: \", train_data_y.shape,valid_data_y.shape,)\n",
    "\n",
    "if train_data_y.shape==(train_data_y.shape[0],):\n",
    "    train_data_y = np_utils.to_categorical(train_data_y, n_classes)\n",
    "\n",
    "if valid_data_y.shape==(valid_data_y.shape[0],):\n",
    "    valid_data_y = np_utils.to_categorical(valid_data_y, n_classes)\n",
    "\n",
    "print(\"Shape after one-hot encoding: \", train_data_y.shape,valid_data_y.shape)"
   ]
  },
  {
   "cell_type": "code",
   "execution_count": 8,
   "metadata": {},
   "outputs": [],
   "source": [
    "def plotImages(images,labels):\n",
    "    fig, axes=plt.subplots(1, 10, figsize=(20,20))\n",
    "    axes = axes.flatten()\n",
    "    for img,ax in zip(images,axes):\n",
    "        ax.imshow(img,cmap='gray')\n",
    "        ax.axis('off')\n",
    "    plt.tight_layout()\n",
    "    plt.show()"
   ]
  },
  {
   "cell_type": "code",
   "execution_count": 9,
   "metadata": {},
   "outputs": [
    {
     "data": {
      "image/png": "[encoded data removed]",
      "text/plain": [
       "<Figure size 1440x1440 with 10 Axes>"
      ]
     },
     "metadata": {
      "needs_background": "light"
     },
     "output_type": "display_data"
    },
    {
     "name": "stdout",
     "output_type": "stream",
     "text": [
      "[[1. 0.]\n",
      " [0. 1.]\n",
      " [0. 1.]\n",
      " [1. 0.]\n",
      " [0. 1.]\n",
      " [0. 1.]\n",
      " [1. 0.]\n",
      " [0. 1.]\n",
      " [0. 1.]\n",
      " [1. 0.]]\n"
     ]
    }
   ],
   "source": [
    "plotImages(train_data_x[0:10],train_data_y[0:10])\n",
    "print(train_data_y[0:10])"
   ]
  },
  {
   "cell_type": "code",
   "execution_count": 3,
   "metadata": {},
   "outputs": [],
   "source": [
    "\n",
    "from tensorflow.keras.models import load_model\n",
    "model = load_model('models/_vn_32_64_8_100_94.h5')\n",
    "\n",
    "\n",
    "# model = Sequential()\n",
    "\n",
    "# model.add(Conv2D(32, kernel_size=(3,3), strides=(1,1), padding='valid', activation='relu', input_shape=(16,16,1)))\n",
    "# model.add(MaxPool2D(pool_size=(1,1)))\n",
    "# model.add(Conv2D(128, kernel_size=(3,3), strides=(1,1), padding='valid', activation='relu', input_shape=(16,16,8)))\n",
    "# model.add(Flatten())\n",
    "# model.add(Dense(200, activation='relu'))\n",
    "# model.add(Dense(2, activation='softmax'))\n",
    "\n",
    "# # compiling the sequential model\n",
    "# model.compile(loss='categorical_crossentropy', metrics=['accuracy'], optimizer='adam')"
   ]
  },
  {
   "cell_type": "code",
   "execution_count": 4,
   "metadata": {},
   "outputs": [
    {
     "name": "stdout",
     "output_type": "stream",
     "text": [
      "Model: \"sequential\"\n",
      "_________________________________________________________________\n",
      " Layer (type)                Output Shape              Param #   \n",
      "=================================================================\n",
      " conv2d (Conv2D)             (None, 14, 14, 32)        320       \n",
      "                                                                 \n",
      " max_pooling2d (MaxPooling2D  (None, 14, 14, 32)       0         \n",
      " )                                                               \n",
      "                                                                 \n",
      " conv2d_1 (Conv2D)           (None, 12, 12, 64)        18496     \n",
      "                                                                 \n",
      " flatten (Flatten)           (None, 9216)              0         \n",
      "                                                                 \n",
      " dense (Dense)               (None, 100)               921700    \n",
      "                                                                 \n",
      " dense_1 (Dense)             (None, 2)                 202       \n",
      "                                                                 \n",
      "=================================================================\n",
      "Total params: 940,718\n",
      "Trainable params: 940,718\n",
      "Non-trainable params: 0\n",
      "_________________________________________________________________\n"
     ]
    }
   ],
   "source": [
    "model.summary()"
   ]
  },
  {
   "cell_type": "code",
   "execution_count": 12,
   "metadata": {},
   "outputs": [
    {
     "name": "stdout",
     "output_type": "stream",
     "text": [
      "Epoch 1/5\n",
      "21/21 [==============================] - 1s 25ms/step - loss: 0.7081 - accuracy: 0.4808 - val_loss: 0.6933 - val_accuracy: 0.5000\n",
      "Epoch 2/5\n",
      "21/21 [==============================] - 0s 19ms/step - loss: 0.6955 - accuracy: 0.5000 - val_loss: 0.6935 - val_accuracy: 0.5000\n",
      "Epoch 3/5\n",
      "21/21 [==============================] - 0s 19ms/step - loss: 0.6937 - accuracy: 0.5000 - val_loss: 0.6932 - val_accuracy: 0.5000\n",
      "Epoch 4/5\n",
      "21/21 [==============================] - 0s 18ms/step - loss: 0.6933 - accuracy: 0.5000 - val_loss: 0.6932 - val_accuracy: 0.5000\n",
      "Epoch 5/5\n",
      "21/21 [==============================] - 0s 18ms/step - loss: 0.6934 - accuracy: 0.5000 - val_loss: 0.6932 - val_accuracy: 0.5000\n"
     ]
    },
    {
     "data": {
      "text/plain": [
       "<tensorflow.python.keras.callbacks.History at 0x1a5a4a9ae80>"
      ]
     },
     "execution_count": 12,
     "metadata": {},
     "output_type": "execute_result"
    }
   ],
   "source": [
    "model.fit(train_data_x, train_data_y, batch_size=5, epochs=5, validation_data=(valid_data_x, valid_data_y))"
   ]
  },
  {
   "cell_type": "code",
   "execution_count": 12,
   "metadata": {},
   "outputs": [],
   "source": [
    "# if os.path.isfile('models/_vn1.h5') is False:\n",
    "model.save('models/_vn_32_128_8_200_94_retrain.h5')"
   ]
  }
 ],
 "metadata": {
  "interpreter": {
   "hash": "95f40879b6b7329d00907e385be3c1da0f6b0e05175b381c46c80fa0aa2d3201"
  },
  "kernelspec": {
   "display_name": "Python 3.8.5 64-bit",
   "name": "python3"
  },
  "language_info": {
   "codemirror_mode": {
    "name": "ipython",
    "version": 3
   },
   "file_extension": ".py",
   "mimetype": "text/x-python",
   "name": "python",
   "nbconvert_exporter": "python",
   "pygments_lexer": "ipython3",
   "version": "3.7.0"
  },
  "orig_nbformat": 4
 },
 "nbformat": 4,
 "nbformat_minor": 2
}
